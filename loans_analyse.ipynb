{
 "cells": [
  {
   "cell_type": "code",
   "execution_count": 3,
   "metadata": {
    "ExecuteTime": {
     "end_time": "2020-03-12T05:37:55.799690Z",
     "start_time": "2020-03-12T05:37:53.641214Z"
    },
    "collapsed": true
   },
   "outputs": [
    {
     "name": "stderr",
     "output_type": "stream",
     "text": [
      "D:\\Anaconda3\\lib\\site-packages\\IPython\\core\\interactiveshell.py:2785: DtypeWarning: Columns (0,47) have mixed types. Specify dtype option on import or set low_memory=False.\n",
      "  interactivity=interactivity, compiler=compiler, result=result)\n"
     ]
    }
   ],
   "source": [
    "import pandas as pd\n",
    "#第一行去掉\n",
    "loans = pd.read_csv('LoanStats3a.csv', skiprows=1)\n",
    "half_count = len(loans) / 2\n",
    "#丢弃含有一半缺失值的列\n",
    "loans = loans.dropna(thresh=half_count,axis=1)\n",
    "#删除无效列\n",
    "loans = loans.drop(['desc','url'],axis=1)\n",
    "loans.to_csv('loans.csv',index=False)\n"
   ]
  },
  {
   "cell_type": "code",
   "execution_count": 53,
   "metadata": {
    "ExecuteTime": {
     "end_time": "2020-03-12T07:58:18.648092Z",
     "start_time": "2020-03-12T07:58:17.803341Z"
    },
    "scrolled": true
   },
   "outputs": [
    {
     "name": "stdout",
     "output_type": "stream",
     "text": [
      "id                                1077501\n",
      "member_id                      1.2966e+06\n",
      "loan_amnt                            5000\n",
      "funded_amnt                          5000\n",
      "funded_amnt_inv                      4975\n",
      "term                            36 months\n",
      "int_rate                           10.65%\n",
      "installment                        162.87\n",
      "grade                                   B\n",
      "sub_grade                              B2\n",
      "emp_title                             NaN\n",
      "emp_length                      10+ years\n",
      "home_ownership                       RENT\n",
      "annual_inc                          24000\n",
      "verification_status              Verified\n",
      "issue_d                          Dec-2011\n",
      "loan_status                    Fully Paid\n",
      "pymnt_plan                              n\n",
      "purpose                       credit_card\n",
      "title                            Computer\n",
      "zip_code                            860xx\n",
      "addr_state                             AZ\n",
      "dti                                 27.65\n",
      "delinq_2yrs                             0\n",
      "earliest_cr_line                 Jan-1985\n",
      "inq_last_6mths                          1\n",
      "open_acc                                3\n",
      "pub_rec                                 0\n",
      "revol_bal                           13648\n",
      "revol_util                          83.7%\n",
      "total_acc                               9\n",
      "initial_list_status                     f\n",
      "out_prncp                               0\n",
      "out_prncp_inv                           0\n",
      "total_pymnt                       5863.16\n",
      "total_pymnt_inv                   5833.84\n",
      "total_rec_prncp                      5000\n",
      "total_rec_int                      863.16\n",
      "total_rec_late_fee                      0\n",
      "recoveries                              0\n",
      "collection_recovery_fee                 0\n",
      "last_pymnt_d                     Jan-2015\n",
      "last_pymnt_amnt                    171.62\n",
      "last_credit_pull_d               Nov-2016\n",
      "collections_12_mths_ex_med              0\n",
      "policy_code                             1\n",
      "application_type               INDIVIDUAL\n",
      "acc_now_delinq                          0\n",
      "chargeoff_within_12_mths                0\n",
      "delinq_amnt                             0\n",
      "pub_rec_bankruptcies                    0\n",
      "tax_liens                               0\n",
      "Name: 0, dtype: object\n",
      "52\n"
     ]
    },
    {
     "name": "stderr",
     "output_type": "stream",
     "text": [
      "D:\\Anaconda3\\lib\\site-packages\\IPython\\core\\interactiveshell.py:2785: DtypeWarning: Columns (0) have mixed types. Specify dtype option on import or set low_memory=False.\n",
      "  interactivity=interactivity, compiler=compiler, result=result)\n"
     ]
    }
   ],
   "source": [
    "import pandas as pd\n",
    "loans = pd.read_csv('loans.csv')\n",
    "#去掉重复数据\n",
    "loans.drop_duplicates()\n",
    "print(loans.iloc[0])\n",
    "print(loans.shape[1])"
   ]
  },
  {
   "cell_type": "code",
   "execution_count": 54,
   "metadata": {
    "ExecuteTime": {
     "end_time": "2020-03-12T07:58:19.843031Z",
     "start_time": "2020-03-12T07:58:19.801142Z"
    }
   },
   "outputs": [
    {
     "name": "stdout",
     "output_type": "stream",
     "text": [
      "loan_amnt                            5000\n",
      "term                            36 months\n",
      "int_rate                           10.65%\n",
      "installment                        162.87\n",
      "emp_length                      10+ years\n",
      "home_ownership                       RENT\n",
      "annual_inc                          24000\n",
      "verification_status              Verified\n",
      "loan_status                    Fully Paid\n",
      "pymnt_plan                              n\n",
      "purpose                       credit_card\n",
      "title                            Computer\n",
      "addr_state                             AZ\n",
      "dti                                 27.65\n",
      "delinq_2yrs                             0\n",
      "earliest_cr_line                 Jan-1985\n",
      "inq_last_6mths                          1\n",
      "open_acc                                3\n",
      "pub_rec                                 0\n",
      "revol_bal                           13648\n",
      "revol_util                          83.7%\n",
      "total_acc                               9\n",
      "initial_list_status                     f\n",
      "last_credit_pull_d               Nov-2016\n",
      "collections_12_mths_ex_med              0\n",
      "policy_code                             1\n",
      "application_type               INDIVIDUAL\n",
      "acc_now_delinq                          0\n",
      "chargeoff_within_12_mths                0\n",
      "delinq_amnt                             0\n",
      "pub_rec_bankruptcies                    0\n",
      "tax_liens                               0\n",
      "Name: 0, dtype: object\n",
      "32\n"
     ]
    }
   ],
   "source": [
    "#去除无关特征\n",
    "loans = loans.drop([\"id\", \"member_id\", \"funded_amnt\", \"funded_amnt_inv\", \"grade\", \"sub_grade\", \"emp_title\", \"issue_d\"], axis=1)\n",
    "loans = loans.drop([\"zip_code\", \"out_prncp\", \"out_prncp_inv\", \"total_pymnt\", \"total_pymnt_inv\", \"total_rec_prncp\"], axis=1)\n",
    "loans = loans.drop([\"total_rec_int\", \"total_rec_late_fee\", \"recoveries\", \"collection_recovery_fee\", \"last_pymnt_d\", \"last_pymnt_amnt\"], axis=1)\n",
    "print(loans.iloc[0])\n",
    "print(loans.shape[1])"
   ]
  },
  {
   "cell_type": "code",
   "execution_count": 55,
   "metadata": {
    "ExecuteTime": {
     "end_time": "2020-03-12T07:58:20.801297Z",
     "start_time": "2020-03-12T07:58:20.792320Z"
    }
   },
   "outputs": [
    {
     "name": "stdout",
     "output_type": "stream",
     "text": [
      "Fully Paid                                             33902\n",
      "Charged Off                                             5658\n",
      "Does not meet the credit policy. Status:Fully Paid      1988\n",
      "Does not meet the credit policy. Status:Charged Off      761\n",
      "Current                                                  201\n",
      "Late (31-120 days)                                        10\n",
      "In Grace Period                                            9\n",
      "Late (16-30 days)                                          5\n",
      "Default                                                    1\n",
      "Name: loan_status, dtype: int64\n"
     ]
    }
   ],
   "source": [
    "#统计不同还款状态对应的样本数量\n",
    "print(loans['loan_status'].value_counts())"
   ]
  },
  {
   "cell_type": "code",
   "execution_count": 56,
   "metadata": {
    "ExecuteTime": {
     "end_time": "2020-03-12T07:58:23.387548Z",
     "start_time": "2020-03-12T07:58:23.344399Z"
    }
   },
   "outputs": [],
   "source": [
    "#对Fully Paid为1、Charged Off为0 进行二分类\n",
    "\n",
    "loans = loans[(loans['loan_status'] == 'Fully Paid') | (loans['loan_status'] == 'Charged Off')]\n",
    "\n",
    "status_replace = {\n",
    "    'loan_status' : {\n",
    "        'Fully Paid': 1,\n",
    "        'Charged Off': 0,\n",
    "    }\n",
    "}\n",
    "\n",
    "loans = loans.replace(status_replace)"
   ]
  },
  {
   "cell_type": "code",
   "execution_count": 57,
   "metadata": {
    "ExecuteTime": {
     "end_time": "2020-03-12T07:58:27.820154Z",
     "start_time": "2020-03-12T07:58:27.289597Z"
    }
   },
   "outputs": [
    {
     "name": "stdout",
     "output_type": "stream",
     "text": [
      "['initial_list_status', 'collections_12_mths_ex_med', 'policy_code', 'application_type', 'acc_now_delinq', 'chargeoff_within_12_mths', 'delinq_amnt', 'tax_liens']\n",
      "(39560, 24)\n"
     ]
    }
   ],
   "source": [
    "#如果某一列的属性只有一个，则删除这一列\n",
    "#无效特征过多容易过拟合\n",
    "\n",
    "orig_columns = loans.columns\n",
    "drop_columns = []\n",
    "for col in orig_columns:\n",
    "    col_series = loans[col].dropna().unique()\n",
    "    if len(col_series) == 1:\n",
    "        drop_columns.append(col)\n",
    "loans = loans.drop(drop_columns,axis=1)\n",
    "print(drop_columns)\n",
    "print(loans.shape)  \n",
    "loans.to_csv('filtered_loans.csv', index=False)"
   ]
  },
  {
   "cell_type": "code",
   "execution_count": 1,
   "metadata": {
    "ExecuteTime": {
     "end_time": "2020-03-12T08:39:23.427730Z",
     "start_time": "2020-03-12T08:39:22.815396Z"
    }
   },
   "outputs": [
    {
     "name": "stdout",
     "output_type": "stream",
     "text": [
      "loan_amnt                  0\n",
      "term                       0\n",
      "int_rate                   0\n",
      "installment                0\n",
      "emp_length              1073\n",
      "home_ownership             0\n",
      "annual_inc                 0\n",
      "verification_status        0\n",
      "loan_status                0\n",
      "pymnt_plan                 0\n",
      "purpose                    0\n",
      "title                     11\n",
      "addr_state                 0\n",
      "dti                        0\n",
      "delinq_2yrs                0\n",
      "earliest_cr_line           0\n",
      "inq_last_6mths             0\n",
      "open_acc                   0\n",
      "pub_rec                    0\n",
      "revol_bal                  0\n",
      "revol_util                50\n",
      "total_acc                  0\n",
      "last_credit_pull_d         2\n",
      "pub_rec_bankruptcies     697\n",
      "dtype: int64\n"
     ]
    }
   ],
   "source": [
    "import pandas as pd \n",
    "loans = pd.read_csv('filtered_loans.csv')\n",
    "nulls_counts = loans.isnull().sum()\n",
    "print(nulls_counts)\n"
   ]
  },
  {
   "cell_type": "code",
   "execution_count": 2,
   "metadata": {
    "ExecuteTime": {
     "end_time": "2020-03-12T08:39:24.596896Z",
     "start_time": "2020-03-12T08:39:24.552015Z"
    }
   },
   "outputs": [
    {
     "name": "stdout",
     "output_type": "stream",
     "text": [
      "object     12\n",
      "float64    10\n",
      "int64       1\n",
      "dtype: int64\n"
     ]
    }
   ],
   "source": [
    "loans = loans.drop('pub_rec_bankruptcies',axis=1)\n",
    "loans = loans.dropna(axis=0)\n",
    "print(loans.dtypes.value_counts())\n"
   ]
  },
  {
   "cell_type": "markdown",
   "metadata": {},
   "source": [
    "# 把object类型处理为数值型"
   ]
  },
  {
   "cell_type": "code",
   "execution_count": 3,
   "metadata": {
    "ExecuteTime": {
     "end_time": "2020-03-12T08:39:27.937540Z",
     "start_time": "2020-03-12T08:39:27.927565Z"
    }
   },
   "outputs": [
    {
     "name": "stdout",
     "output_type": "stream",
     "text": [
      "term                     36 months\n",
      "int_rate                    10.65%\n",
      "emp_length               10+ years\n",
      "home_ownership                RENT\n",
      "verification_status       Verified\n",
      "pymnt_plan                       n\n",
      "purpose                credit_card\n",
      "title                     Computer\n",
      "addr_state                      AZ\n",
      "earliest_cr_line          Jan-1985\n",
      "revol_util                   83.7%\n",
      "last_credit_pull_d        Nov-2016\n",
      "Name: 0, dtype: object\n"
     ]
    }
   ],
   "source": [
    "#输出数据类型为字符型的字段\n",
    "object_columns_df = loans.select_dtypes(include=['object'])\n",
    "print(object_columns_df.iloc[0])"
   ]
  },
  {
   "cell_type": "code",
   "execution_count": 4,
   "metadata": {
    "ExecuteTime": {
     "end_time": "2020-03-12T08:39:29.818889Z",
     "start_time": "2020-03-12T08:39:29.791962Z"
    },
    "collapsed": true
   },
   "outputs": [
    {
     "name": "stdout",
     "output_type": "stream",
     "text": [
      "RENT        18371\n",
      "MORTGAGE    17131\n",
      "OWN          2827\n",
      "OTHER          96\n",
      "NONE            3\n",
      "Name: home_ownership, dtype: int64\n",
      "Not Verified       16436\n",
      "Verified           12251\n",
      "Source Verified     9741\n",
      "Name: verification_status, dtype: int64\n",
      "10+ years    8821\n",
      "< 1 year     4563\n",
      "2 years      4371\n",
      "3 years      4074\n",
      "4 years      3409\n",
      "5 years      3270\n",
      "1 year       3227\n",
      "6 years      2212\n",
      "7 years      1756\n",
      "8 years      1472\n",
      "9 years      1253\n",
      "Name: emp_length, dtype: int64\n",
      " 36 months    28234\n",
      " 60 months    10194\n",
      "Name: term, dtype: int64\n",
      "CA    6882\n",
      "NY    3684\n",
      "FL    2766\n",
      "TX    2659\n",
      "NJ    1814\n",
      "IL    1480\n",
      "PA    1470\n",
      "VA    1371\n",
      "GA    1352\n",
      "MA    1306\n",
      "OH    1177\n",
      "MD    1030\n",
      "AZ     828\n",
      "WA     800\n",
      "CO     764\n",
      "NC     754\n",
      "CT     728\n",
      "MI     688\n",
      "MO     658\n",
      "MN     589\n",
      "NV     477\n",
      "SC     462\n",
      "WI     439\n",
      "OR     431\n",
      "AL     429\n",
      "LA     425\n",
      "KY     321\n",
      "OK     292\n",
      "KS     258\n",
      "UT     251\n",
      "AR     233\n",
      "DC     211\n",
      "RI     196\n",
      "NM     182\n",
      "HI     168\n",
      "WV     167\n",
      "NH     162\n",
      "DE     110\n",
      "WY      79\n",
      "MT      78\n",
      "AK      77\n",
      "SD      62\n",
      "VT      54\n",
      "MS      19\n",
      "TN      17\n",
      "IN       9\n",
      "ID       6\n",
      "NE       5\n",
      "IA       5\n",
      "ME       3\n",
      "Name: addr_state, dtype: int64\n"
     ]
    }
   ],
   "source": [
    "cols = ['home_ownership', 'verification_status', 'emp_length', 'term', 'addr_state']\n",
    "for c in cols:\n",
    "    print(loans[c].value_counts())\n"
   ]
  },
  {
   "cell_type": "code",
   "execution_count": 6,
   "metadata": {
    "ExecuteTime": {
     "end_time": "2020-03-12T08:40:04.607115Z",
     "start_time": "2020-03-12T08:40:04.584181Z"
    },
    "collapsed": true
   },
   "outputs": [
    {
     "name": "stdout",
     "output_type": "stream",
     "text": [
      "debt_consolidation    18137\n",
      "credit_card            4970\n",
      "other                  3803\n",
      "home_improvement       2869\n",
      "major_purchase         2108\n",
      "small_business         1771\n",
      "car                    1492\n",
      "wedding                 932\n",
      "medical                 667\n",
      "moving                  557\n",
      "house                   365\n",
      "vacation                350\n",
      "educational             312\n",
      "renewable_energy         95\n",
      "Name: purpose, dtype: int64\n",
      "Debt Consolidation                                             2128\n",
      "Debt Consolidation Loan                                        1671\n",
      "Personal Loan                                                   640\n",
      "Consolidation                                                   503\n",
      "debt consolidation                                              483\n",
      "Credit Card Consolidation                                       348\n",
      "Home Improvement                                                344\n",
      "Debt consolidation                                              323\n",
      "Small Business Loan                                             310\n",
      "Credit Card Loan                                                302\n",
      "Personal                                                        296\n",
      "Consolidation Loan                                              254\n",
      "Home Improvement Loan                                           237\n",
      "personal loan                                                   224\n",
      "personal                                                        207\n",
      "Wedding Loan                                                    207\n",
      "Loan                                                            206\n",
      "Car Loan                                                        193\n",
      "consolidation                                                   193\n",
      "Other Loan                                                      177\n",
      "Wedding                                                         151\n",
      "Credit Card Payoff                                              149\n",
      "Credit Card Refinance                                           140\n",
      "Major Purchase Loan                                             136\n",
      "Consolidate                                                     126\n",
      "Medical                                                         114\n",
      "Credit Card                                                     112\n",
      "home improvement                                                105\n",
      "Credit Cards                                                     93\n",
      "My Loan                                                          92\n",
      "                                                               ... \n",
      "Student Aide                                                      1\n",
      "Debt reducer                                                      1\n",
      "emergeny fund                                                     1\n",
      "Cash flow & investment                                            1\n",
      "Consolidating debt into one lump sum                              1\n",
      "Help me win a $500k NASA competition                              1\n",
      "Blackwalnut                                                       1\n",
      "American                                                          1\n",
      "party help                                                        1\n",
      "Helping me loan                                                   1\n",
      "Closing Sears credit card at 21 percent                           1\n",
      "Mini                                                              1\n",
      "PAY OFF THE GIANTS                                                1\n",
      "Military Home Purchase                                            1\n",
      "New Deal                                                          1\n",
      "The end of Credit Cards                                           1\n",
      "Norman Debt Consolidation Loan                                    1\n",
      "Simplify Debt                                                     1\n",
      "future freedom                                                    1\n",
      "Heating/Cooling                                                   1\n",
      "Consolidating / Paying off Small loan                             1\n",
      "Home Improvement - New Windows                                    1\n",
      "Credit cards payment                                              1\n",
      "Ashley's Dream                                                    1\n",
      "drywall,paint,trim=money                                          1\n",
      "Lower My Debt Today!                                              1\n",
      "GetFinanceFit                                                     1\n",
      "Magazine Art Director of 8 Years Looking to Get Out of Debt       1\n",
      "Refinace                                                          1\n",
      "Will repay by September! Short term!                              1\n",
      "Name: title, Length: 19094, dtype: int64\n"
     ]
    }
   ],
   "source": [
    "#输出类似特征，保留'purpose'\n",
    "print(loans[\"purpose\"].value_counts())\n",
    "print(loans[\"title\"].value_counts())"
   ]
  },
  {
   "cell_type": "code",
   "execution_count": 63,
   "metadata": {
    "ExecuteTime": {
     "end_time": "2020-03-12T07:58:36.199654Z",
     "start_time": "2020-03-12T07:58:36.121726Z"
    }
   },
   "outputs": [],
   "source": [
    "#将\"emp_length\"字段转化为字符型数据\n",
    "mapping_dict = {\n",
    "    \"emp_length\": {\n",
    "        \"10+ years\": 10,\n",
    "        \"9 years\": 9,\n",
    "        \"8 years\": 8,\n",
    "        \"7 years\": 7,\n",
    "        \"6 years\": 6,\n",
    "        \"5 years\": 5,\n",
    "        \"4 years\": 4,\n",
    "        \"3 years\": 3,\n",
    "        \"2 years\": 2,\n",
    "        \"1 year\": 1,\n",
    "        \"< 1 year\": 0,\n",
    "        \"n/a\": 0\n",
    "    }\n",
    "}\n",
    "\n",
    "loans = loans.drop([\"last_credit_pull_d\", \"earliest_cr_line\", \"addr_state\", \"title\"], axis=1)\n",
    "#将百分比类型转化为浮点型（小数类型）\n",
    "loans[\"int_rate\"] = loans[\"int_rate\"].str.rstrip(\"%\").astype(\"float\")\n",
    "loans[\"revol_util\"] = loans[\"revol_util\"].str.rstrip(\"%\").astype(\"float\")\n",
    "loans = loans.replace(mapping_dict)"
   ]
  },
  {
   "cell_type": "code",
   "execution_count": 64,
   "metadata": {
    "ExecuteTime": {
     "end_time": "2020-03-12T07:58:37.743001Z",
     "start_time": "2020-03-12T07:58:36.792443Z"
    }
   },
   "outputs": [],
   "source": [
    "#给cat_columns里面的字段进行onehot编码\n",
    "cat_columns = [\"home_ownership\", \"verification_status\", \"emp_length\", \"purpose\", \"term\"]\n",
    "dummy_df = pd.get_dummies(loans[cat_columns])\n",
    "loans = pd.concat([loans, dummy_df], axis=1)\n",
    "loans = loans.drop(cat_columns, axis=1)\n",
    "loans = loans.drop(\"pymnt_plan\", axis=1)\n",
    "loans.to_csv('cleaned_loans.csv', index=False)"
   ]
  },
  {
   "cell_type": "code",
   "execution_count": 1,
   "metadata": {
    "ExecuteTime": {
     "end_time": "2020-03-12T08:46:04.967225Z",
     "start_time": "2020-03-12T08:46:04.261087Z"
    }
   },
   "outputs": [
    {
     "name": "stdout",
     "output_type": "stream",
     "text": [
      "<class 'pandas.core.frame.DataFrame'>\n",
      "RangeIndex: 38428 entries, 0 to 38427\n",
      "Data columns (total 37 columns):\n",
      "loan_amnt                              38428 non-null float64\n",
      "int_rate                               38428 non-null float64\n",
      "installment                            38428 non-null float64\n",
      "annual_inc                             38428 non-null float64\n",
      "loan_status                            38428 non-null int64\n",
      "dti                                    38428 non-null float64\n",
      "delinq_2yrs                            38428 non-null float64\n",
      "inq_last_6mths                         38428 non-null float64\n",
      "open_acc                               38428 non-null float64\n",
      "pub_rec                                38428 non-null float64\n",
      "revol_bal                              38428 non-null float64\n",
      "revol_util                             38428 non-null float64\n",
      "total_acc                              38428 non-null float64\n",
      "home_ownership_MORTGAGE                38428 non-null int64\n",
      "home_ownership_NONE                    38428 non-null int64\n",
      "home_ownership_OTHER                   38428 non-null int64\n",
      "home_ownership_OWN                     38428 non-null int64\n",
      "home_ownership_RENT                    38428 non-null int64\n",
      "verification_status_Not Verified       38428 non-null int64\n",
      "verification_status_Source Verified    38428 non-null int64\n",
      "verification_status_Verified           38428 non-null int64\n",
      "purpose_car                            38428 non-null int64\n",
      "purpose_credit_card                    38428 non-null int64\n",
      "purpose_debt_consolidation             38428 non-null int64\n",
      "purpose_educational                    38428 non-null int64\n",
      "purpose_home_improvement               38428 non-null int64\n",
      "purpose_house                          38428 non-null int64\n",
      "purpose_major_purchase                 38428 non-null int64\n",
      "purpose_medical                        38428 non-null int64\n",
      "purpose_moving                         38428 non-null int64\n",
      "purpose_other                          38428 non-null int64\n",
      "purpose_renewable_energy               38428 non-null int64\n",
      "purpose_small_business                 38428 non-null int64\n",
      "purpose_vacation                       38428 non-null int64\n",
      "purpose_wedding                        38428 non-null int64\n",
      "term_ 36 months                        38428 non-null int64\n",
      "term_ 60 months                        38428 non-null int64\n",
      "dtypes: float64(12), int64(25)\n",
      "memory usage: 10.8 MB\n",
      "None\n"
     ]
    }
   ],
   "source": [
    "import pandas as pd\n",
    "#读取最终清洗的数据\n",
    "loans = pd.read_csv(\"cleaned_loans.csv\")\n",
    "print(loans.info())"
   ]
  },
  {
   "cell_type": "code",
   "execution_count": 2,
   "metadata": {
    "ExecuteTime": {
     "end_time": "2020-03-12T08:46:06.924467Z",
     "start_time": "2020-03-12T08:46:05.223247Z"
    }
   },
   "outputs": [
    {
     "name": "stderr",
     "output_type": "stream",
     "text": [
      "D:\\Anaconda3\\lib\\site-packages\\sklearn\\cross_validation.py:41: DeprecationWarning: This module was deprecated in version 0.18 in favor of the model_selection module into which all the refactored classes and functions are moved. Also note that the interface of the new CV iterators are different from that of this module. This module will be removed in 0.20.\n",
      "  \"This module will be removed in 0.20.\", DeprecationWarning)\n"
     ]
    },
    {
     "name": "stdout",
     "output_type": "stream",
     "text": [
      "0.9991519520247145\n",
      "0.997967104047311\n",
      "0     1\n",
      "1     1\n",
      "2     1\n",
      "3     1\n",
      "4     1\n",
      "5     1\n",
      "6     1\n",
      "7     1\n",
      "8     1\n",
      "9     1\n",
      "10    1\n",
      "11    1\n",
      "12    1\n",
      "13    1\n",
      "14    1\n",
      "15    1\n",
      "16    1\n",
      "17    1\n",
      "18    1\n",
      "19    1\n",
      "dtype: int64\n"
     ]
    }
   ],
   "source": [
    "#使用逻辑回归模型对0-1标签进行分类\n",
    "from sklearn.linear_model import LogisticRegression\n",
    "from sklearn.cross_validation import cross_val_predict, KFold\n",
    "lr = LogisticRegression()\n",
    "cols = loans.columns\n",
    "train_cols = cols.drop(\"loan_status\")\n",
    "features = loans[train_cols]\n",
    "target = loans[\"loan_status\"]\n",
    "lr.fit(features, target)\n",
    "predictions = lr.predict(features)\n",
    "\n",
    "\n",
    "kf = KFold(features.shape[0], random_state=1)\n",
    "predictions = cross_val_predict(lr, features, target, cv=kf)\n",
    "predictions = pd.Series(predictions)\n",
    "#负例预测为正例\n",
    "fp_filter = (predictions == 1) & (loans[\"loan_status\"] == 0)\n",
    "fp = len(predictions[fp_filter])\n",
    "# 正例预测为正例\n",
    "tp_filter = (predictions == 1) & (loans[\"loan_status\"] == 1)\n",
    "tp = len(predictions[tp_filter])\n",
    "# 负例预测为正例\n",
    "fn_filter = (predictions == 0) & (loans[\"loan_status\"] == 1)\n",
    "fn = len(predictions[fn_filter])\n",
    "# 负例预测为负例\n",
    "tn_filter = (predictions == 0) & (loans[\"loan_status\"] == 0)\n",
    "tn = len(predictions[tn_filter])\n",
    "# 统计指标：tpr和fpr，其中tpr越大越好，fpr越小越好\n",
    "tpr = tp / float((tp + fn))\n",
    "fpr = fp / float((fp + tn))\n",
    "print(tpr)\n",
    "print(fpr)\n",
    "print(predictions[:20])"
   ]
  },
  {
   "cell_type": "code",
   "execution_count": 3,
   "metadata": {
    "ExecuteTime": {
     "end_time": "2020-03-12T08:46:08.418874Z",
     "start_time": "2020-03-12T08:46:07.143159Z"
    }
   },
   "outputs": [
    {
     "name": "stdout",
     "output_type": "stream",
     "text": [
      "0.6669594451343247\n",
      "0.39308815376085754\n",
      "0     1\n",
      "1     0\n",
      "2     0\n",
      "3     1\n",
      "4     1\n",
      "5     0\n",
      "6     0\n",
      "7     0\n",
      "8     0\n",
      "9     0\n",
      "10    1\n",
      "11    0\n",
      "12    1\n",
      "13    1\n",
      "14    0\n",
      "15    0\n",
      "16    1\n",
      "17    1\n",
      "18    1\n",
      "19    0\n",
      "dtype: int64\n"
     ]
    }
   ],
   "source": [
    "#样本不均衡，改变权重\n",
    "#在正负样本比例均衡条件下训练模型，统计相关指标\n",
    "from sklearn.linear_model import LogisticRegression\n",
    "from sklearn.cross_validation import cross_val_predict\n",
    "lr = LogisticRegression(class_weight=\"balanced\")\n",
    "kf = KFold(features.shape[0], random_state=1)\n",
    "predictions = cross_val_predict(lr, features, target, cv=kf)\n",
    "predictions = pd.Series(predictions)\n",
    "#负例预测为正例\n",
    "fp_filter = (predictions == 1) & (loans[\"loan_status\"] == 0)\n",
    "fp = len(predictions[fp_filter])\n",
    "# 正例预测为正例\n",
    "tp_filter = (predictions == 1) & (loans[\"loan_status\"] == 1)\n",
    "tp = len(predictions[tp_filter])\n",
    "# 负例预测为正例\n",
    "fn_filter = (predictions == 0) & (loans[\"loan_status\"] == 1)\n",
    "fn = len(predictions[fn_filter])\n",
    "# 负例预测为负例\n",
    "tn_filter = (predictions == 0) & (loans[\"loan_status\"] == 0)\n",
    "tn = len(predictions[tn_filter])\n",
    "# 统计指标：tpr和fpr，其中tpr越大越好，fpr越小越好\n",
    "tpr = tp / float((tp + fn))\n",
    "fpr = fp / float((fp + tn))\n",
    "print(tpr)\n",
    "print(fpr)\n",
    "print(predictions[:20])"
   ]
  },
  {
   "cell_type": "code",
   "execution_count": 4,
   "metadata": {
    "ExecuteTime": {
     "end_time": "2020-03-12T08:46:10.235070Z",
     "start_time": "2020-03-12T08:46:09.272644Z"
    }
   },
   "outputs": [
    {
     "name": "stdout",
     "output_type": "stream",
     "text": [
      "0.7084532210679347\n",
      "0.463130659767141\n",
      "0     1\n",
      "1     0\n",
      "2     0\n",
      "3     1\n",
      "4     1\n",
      "5     0\n",
      "6     0\n",
      "7     0\n",
      "8     0\n",
      "9     1\n",
      "10    1\n",
      "11    0\n",
      "12    0\n",
      "13    1\n",
      "14    0\n",
      "15    1\n",
      "16    1\n",
      "17    1\n",
      "18    1\n",
      "19    0\n",
      "dtype: int64\n"
     ]
    }
   ],
   "source": [
    "from sklearn.linear_model import LogisticRegression\n",
    "from sklearn.cross_validation import cross_val_predict\n",
    "#因为这里负例样本数量远远小于正例样本数量，我们可以调整正负样本的权重，使得正负样本比例均衡\n",
    "penalty = {\n",
    "    0: 5,\n",
    "    1: 1\n",
    "}\n",
    "lr = LogisticRegression(class_weight=penalty)\n",
    "kf = KFold(features.shape[0], random_state=1)\n",
    "predictions = cross_val_predict(lr, features, target, cv=kf)\n",
    "predictions = pd.Series(predictions)\n",
    "#负例预测为正例\n",
    "fp_filter = (predictions == 1) & (loans[\"loan_status\"] == 0)\n",
    "fp = len(predictions[fp_filter])\n",
    "# 正例预测为正例\n",
    "tp_filter = (predictions == 1) & (loans[\"loan_status\"] == 1)\n",
    "tp = len(predictions[tp_filter])\n",
    "# 负例预测为正例\n",
    "fn_filter = (predictions == 0) & (loans[\"loan_status\"] == 1)\n",
    "fn = len(predictions[fn_filter])\n",
    "# 负例预测为负例\n",
    "tn_filter = (predictions == 0) & (loans[\"loan_status\"] == 0)\n",
    "tn = len(predictions[tn_filter])\n",
    "# 统计指标：tpr和fpr，其中tpr越大越好，fpr越小越好\n",
    "tpr = tp / float((tp + fn))\n",
    "fpr = fp / float((fp + tn))\n",
    "print(tpr)\n",
    "print(fpr)\n",
    "print(predictions[:20])"
   ]
  },
  {
   "cell_type": "code",
   "execution_count": 5,
   "metadata": {
    "ExecuteTime": {
     "end_time": "2020-03-12T08:46:12.909134Z",
     "start_time": "2020-03-12T08:46:11.519233Z"
    }
   },
   "outputs": [
    {
     "name": "stderr",
     "output_type": "stream",
     "text": [
      "D:\\Anaconda3\\lib\\site-packages\\sklearn\\ensemble\\weight_boosting.py:29: DeprecationWarning: numpy.core.umath_tests is an internal NumPy module and should not be imported. It will be removed in a future NumPy release.\n",
      "  from numpy.core.umath_tests import inner1d\n"
     ]
    },
    {
     "name": "stdout",
     "output_type": "stream",
     "text": [
      "0.9744071236029924\n",
      "0.9414156348179634\n",
      "0     1\n",
      "1     0\n",
      "2     1\n",
      "3     1\n",
      "4     1\n",
      "5     1\n",
      "6     1\n",
      "7     0\n",
      "8     1\n",
      "9     1\n",
      "10    1\n",
      "11    1\n",
      "12    1\n",
      "13    1\n",
      "14    0\n",
      "15    1\n",
      "16    1\n",
      "17    1\n",
      "18    1\n",
      "19    1\n",
      "dtype: int64\n"
     ]
    }
   ],
   "source": [
    "#使用随机森林\n",
    "from sklearn.ensemble import RandomForestClassifier\n",
    "from sklearn.cross_validation import cross_val_predict\n",
    "rf = RandomForestClassifier(n_estimators=10,class_weight=\"balanced\", random_state=1)\n",
    "#print help(RandomForestClassifier)\n",
    "kf = KFold(features.shape[0], random_state=1)\n",
    "predictions = cross_val_predict(rf, features, target, cv=kf)\n",
    "predictions = pd.Series(predictions)\n",
    "\n",
    "\n",
    "# False positives.\n",
    "fp_filter = (predictions == 1) & (loans[\"loan_status\"] == 0)\n",
    "fp = len(predictions[fp_filter])\n",
    "# True positives.\n",
    "tp_filter = (predictions == 1) & (loans[\"loan_status\"] == 1)\n",
    "tp = len(predictions[tp_filter])\n",
    "# False negatives.\n",
    "fn_filter = (predictions == 0) & (loans[\"loan_status\"] == 1)\n",
    "fn = len(predictions[fn_filter])\n",
    "# True negatives\n",
    "tn_filter = (predictions == 0) & (loans[\"loan_status\"] == 0)\n",
    "tn = len(predictions[tn_filter])\n",
    "# Rates\n",
    "tpr = tp / float((tp + fn))\n",
    "fpr = fp / float((fp + tn))\n",
    "\n",
    "print(tpr)\n",
    "print(fpr)\n",
    "print(predictions[:20])"
   ]
  }
 ],
 "metadata": {
  "kernelspec": {
   "display_name": "Python 3",
   "language": "python",
   "name": "python3"
  },
  "language_info": {
   "codemirror_mode": {
    "name": "ipython",
    "version": 3
   },
   "file_extension": ".py",
   "mimetype": "text/x-python",
   "name": "python",
   "nbconvert_exporter": "python",
   "pygments_lexer": "ipython3",
   "version": "3.7.0"
  }
 },
 "nbformat": 4,
 "nbformat_minor": 2
}
